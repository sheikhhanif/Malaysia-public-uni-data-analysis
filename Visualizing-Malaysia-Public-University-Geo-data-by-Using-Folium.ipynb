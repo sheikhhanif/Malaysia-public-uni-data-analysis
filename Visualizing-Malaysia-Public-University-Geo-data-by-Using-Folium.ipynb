{
 "cells": [
  {
   "cell_type": "markdown",
   "metadata": {},
   "source": [
    "### Introduction\n",
    "Python has large ecosystem which has made it unique to work for software development and data analysis. It has enormous packages\n",
    "to build almost anything. One of them is called 'folium'. \n",
    "\n",
    "According to the documentation, Folium builds on the data wrangling strengths of the Python ecosystem and the mapping strengths of the Leaflet.js library. Manipulate data in Python, then visualize it in on a Leaflet map via Folium.\n",
    "\n",
    "Folium makes it easy to visualize data that’s been manipulated in Python on an interactive Leaflet map. It enables both the binding of data to a map for choropleth visualizations as well as passing Vincent/Vega visualizations as markers on the map.\n",
    "\n",
    "The library has a number of built-in tilesets from OpenStreetMap, MapQuest Open, MapQuest Open Aerial, Mapbox, and Stamen, and supports custom tilesets with Mapbox or Cloudmade API keys. Folium supports both GeoJSON and TopoJSON overlays, as well as the binding of data to those overlays to create choropleth maps with color-brewer color schemes.\n",
    "\n",
    "In this article, I will explore folium by visualizing certain companies and universities locations of Malaysia. "
   ]
  },
  {
   "cell_type": "markdown",
   "metadata": {},
   "source": [
    "### Project objective\n",
    "The goals of this project are : \n",
    "- Gather data specially [geo_location] of Malaysia public universities.\n",
    "- Use pandas to store data\n",
    "- Wrangling collected data\n",
    "- Doing Exploratory data analysis\n",
    "- Applying Folium to create the map and visualize it"
   ]
  },
  {
   "cell_type": "markdown",
   "metadata": {},
   "source": [
    "### Gathering data\n",
    "Unfortunately, the geo-data of Malaysia Public Universities is not available in the internet. I search in the google dataset.\n",
    "Couldn't found. So, I have done some web scrapping and collected the data I need."
   ]
  },
  {
   "cell_type": "markdown",
   "metadata": {},
   "source": [
    "Below is the dataset I have collected and put it in a Python list. As you can see it's a list of tuples. Each tuple contains id, university_name,\n",
    "date of establishment, state, latitude and longitude."
   ]
  },
  {
   "cell_type": "code",
   "execution_count": 1,
   "metadata": {},
   "outputs": [],
   "source": [
    "public_university_malaysia = [\n",
    "    \n",
    "    ('UM', 'Universiti Malaya', '1-1-1962', 'Kuala Lumpur', 3.120101, 101.654396),\n",
    "    ('USM', 'Universiti Sains Malaysia ', '1969', 'Penang', 5.355870, 100.296188),\n",
    "    ('UKM', 'Universiti Kebangsaan Malaysia', '18-5-1970', 'Selangor', 2.930430,101.777328 ),\n",
    "    ('UPM', 'Universiti Putra Malaysia', '4-10-1971', 'Selangor', 3.010720, 101.720909),\n",
    "    ('UTM', 'Universiti Teknologi Malaysia', '1-4-1975', 'Johor', 1.559580, 103.637489),\n",
    "    ('UiTM', 'Universiti Teknologi MARA', '26-8-1999', 'Selangor', 3.0676, 101.4992),\n",
    "    ('UIAM', 'Universiti Islam Antarabangsa Malaysia', '10-5-1983', 'Selangor', 3.248900,101.777328 ),\n",
    "    ('UUM', 'Universiti Utara Malaysia', '16-2-1984', 'Kedah', 6.457510, 100.505432),\n",
    "    ('UNIMAS', 'Universiti Malaysia Sarawak', '24-12-1992', 'Sarawak', 1.464922, 110.426855),\n",
    "    ('UMS', 'Universiti Malaysia Sabah', '24-11-1994', 'Sabah', 6.042670, 116.147560),\n",
    "    ('UPSI', 'Universiti Pendidikan Sultan Idris', '24-2-1997', 'Perak', 3.685048, 101.524094),\n",
    "    ('USIM', 'Universiti Sains Islam Malaysia', '13-3-1998', 'Negeri Sembilan', 2.844204, 101.781890),\n",
    "    ('UMT', 'Universiti Malaysia Terengganu', '15-7-1999', 'Terengganu', 5.408712, 103.088813),\n",
    "    ('UTHM', 'Universiti Tun Hussein Onn Malaysia', '30-9-2000', 'Johor', 1.858626, 103.085578),\n",
    "    ('UTeM', 'Universiti Teknikal Malaysia Melaka', '1-12-2000', 'Melaka', 2.306000, 102.317871),\n",
    "    ('UMP', 'Universiti Malaysia Pahang', '16-2-2002', 'Pahang', 3.543702, 103.428906),\n",
    "    ('UniMAP', 'Universiti Malaysia Perlis', '2-5-2002', 'Perlis', 6.411160, 100.135600),\n",
    "    ('UniSZA', 'Universiti Sultan Zainal Abidin', '1-1-2006', 'Terengganu', 5.395676, 103.082795),\n",
    "    ('UMK', 'Universiti Malaysia Kelantan', '14-6-2006', 'Kelantan', 6.164291, 102.283956),\n",
    "    ('UPNM', 'Universiti Pertahanan Nasional Malaysia', '10-11-2006', 'Kuala Lumpur', 3.050463, 101.724833),\n",
    "\n",
    "]"
   ]
  },
  {
   "cell_type": "markdown",
   "metadata": {},
   "source": [
    "I will be using pandas, pyplot for EDA (exploratory data analysis) and data wrangling. Finally, I will visualize it using folium which is my\n",
    "ultimate goal for this project. I am importing the modules I need as follows."
   ]
  },
  {
   "cell_type": "code",
   "execution_count": 2,
   "metadata": {},
   "outputs": [],
   "source": [
    "import pandas as pd\n",
    "import matplotlib.pyplot as plt\n",
    "import folium"
   ]
  },
  {
   "cell_type": "markdown",
   "metadata": {},
   "source": [
    "In order to analyze our data with pandas I need convert to our list data into pandas dataframe. It can be done by using pandas DataFrame()\n",
    "function. Below I am passing columns name and our list I created earlier inside of this this function."
   ]
  },
  {
   "cell_type": "code",
   "execution_count": 3,
   "metadata": {},
   "outputs": [],
   "source": [
    "columns_name = ['Id', 'University_Name', 'Date_Established', 'State', 'Latitude', 'Longitude' ]\n",
    "df_public_university_malaysia = pd.DataFrame(data = public_university_malaysia,\n",
    "                      columns=columns_name)"
   ]
  },
  {
   "cell_type": "markdown",
   "metadata": {},
   "source": [
    "### Wrangling\n",
    "Now that our dataset has been created properly. I can have a look into it by using pandas head() method. Also I am trying to \n",
    "determine any missing value within the dataset. Even if the dataset is small but I need to make sure all data is present in order to\n",
    "visualize it with folium and to avaoid unexpected output."
   ]
  },
  {
   "cell_type": "code",
   "execution_count": 4,
   "metadata": {},
   "outputs": [
    {
     "data": {
      "text/html": [
       "<div>\n",
       "<style scoped>\n",
       "    .dataframe tbody tr th:only-of-type {\n",
       "        vertical-align: middle;\n",
       "    }\n",
       "\n",
       "    .dataframe tbody tr th {\n",
       "        vertical-align: top;\n",
       "    }\n",
       "\n",
       "    .dataframe thead th {\n",
       "        text-align: right;\n",
       "    }\n",
       "</style>\n",
       "<table border=\"1\" class=\"dataframe\">\n",
       "  <thead>\n",
       "    <tr style=\"text-align: right;\">\n",
       "      <th></th>\n",
       "      <th>Id</th>\n",
       "      <th>University_Name</th>\n",
       "      <th>Date_Established</th>\n",
       "      <th>State</th>\n",
       "      <th>Latitude</th>\n",
       "      <th>Longitude</th>\n",
       "    </tr>\n",
       "  </thead>\n",
       "  <tbody>\n",
       "    <tr>\n",
       "      <th>0</th>\n",
       "      <td>UM</td>\n",
       "      <td>Universiti Malaya</td>\n",
       "      <td>1-1-1962</td>\n",
       "      <td>Kuala Lumpur</td>\n",
       "      <td>3.120101</td>\n",
       "      <td>101.654396</td>\n",
       "    </tr>\n",
       "    <tr>\n",
       "      <th>1</th>\n",
       "      <td>USM</td>\n",
       "      <td>Universiti Sains Malaysia</td>\n",
       "      <td>1969</td>\n",
       "      <td>Penang</td>\n",
       "      <td>5.355870</td>\n",
       "      <td>100.296188</td>\n",
       "    </tr>\n",
       "    <tr>\n",
       "      <th>2</th>\n",
       "      <td>UKM</td>\n",
       "      <td>Universiti Kebangsaan Malaysia</td>\n",
       "      <td>18-5-1970</td>\n",
       "      <td>Selangor</td>\n",
       "      <td>2.930430</td>\n",
       "      <td>101.777328</td>\n",
       "    </tr>\n",
       "    <tr>\n",
       "      <th>3</th>\n",
       "      <td>UPM</td>\n",
       "      <td>Universiti Putra Malaysia</td>\n",
       "      <td>4-10-1971</td>\n",
       "      <td>Selangor</td>\n",
       "      <td>3.010720</td>\n",
       "      <td>101.720909</td>\n",
       "    </tr>\n",
       "    <tr>\n",
       "      <th>4</th>\n",
       "      <td>UTM</td>\n",
       "      <td>Universiti Teknologi Malaysia</td>\n",
       "      <td>1-4-1975</td>\n",
       "      <td>Johor</td>\n",
       "      <td>1.559580</td>\n",
       "      <td>103.637489</td>\n",
       "    </tr>\n",
       "  </tbody>\n",
       "</table>\n",
       "</div>"
      ],
      "text/plain": [
       "    Id                 University_Name Date_Established         State  \\\n",
       "0   UM               Universiti Malaya         1-1-1962  Kuala Lumpur   \n",
       "1  USM      Universiti Sains Malaysia              1969        Penang   \n",
       "2  UKM  Universiti Kebangsaan Malaysia        18-5-1970      Selangor   \n",
       "3  UPM       Universiti Putra Malaysia        4-10-1971      Selangor   \n",
       "4  UTM   Universiti Teknologi Malaysia         1-4-1975         Johor   \n",
       "\n",
       "   Latitude   Longitude  \n",
       "0  3.120101  101.654396  \n",
       "1  5.355870  100.296188  \n",
       "2  2.930430  101.777328  \n",
       "3  3.010720  101.720909  \n",
       "4  1.559580  103.637489  "
      ]
     },
     "execution_count": 4,
     "metadata": {},
     "output_type": "execute_result"
    }
   ],
   "source": [
    "df_public_university_malaysia.head()"
   ]
  },
  {
   "cell_type": "code",
   "execution_count": 5,
   "metadata": {
    "scrolled": false
   },
   "outputs": [
    {
     "data": {
      "text/plain": [
       "Id                  0\n",
       "University_Name     0\n",
       "Date_Established    0\n",
       "State               0\n",
       "Latitude            0\n",
       "Longitude           0\n",
       "dtype: int64"
      ]
     },
     "execution_count": 5,
     "metadata": {},
     "output_type": "execute_result"
    }
   ],
   "source": [
    "df_public_university_malaysia.isnull().sum()"
   ]
  },
  {
   "cell_type": "markdown",
   "metadata": {},
   "source": [
    "Now I am confirmed that our dataset has no missing value in it. I will proceed to next step which is EDA. In that step I will\n",
    "try to find any pattern and insightful info of our data."
   ]
  },
  {
   "cell_type": "markdown",
   "metadata": {},
   "source": [
    "### EDA\n",
    "Our dataset is small and has only two columns which contain numerical values. Let's see what can be found. \n",
    "Below I am scattering latitude (as x axis) and longitude (as y axis). "
   ]
  },
  {
   "cell_type": "code",
   "execution_count": 6,
   "metadata": {
    "scrolled": false
   },
   "outputs": [
    {
     "data": {
      "image/png": "[encoded data removed]",
      "text/plain": [
       "<Figure size 432x288 with 1 Axes>"
      ]
     },
     "metadata": {
      "needs_background": "light"
     },
     "output_type": "display_data"
    }
   ],
   "source": [
    "plt.title(\"Malaysia Public University\")\n",
    "plt.xlabel(\"Latitude\")\n",
    "plt.ylabel(\"Longitude\")\n",
    "plt.scatter(df_public_university_malaysia.Latitude, df_public_university_malaysia.Longitude)\n",
    "plt.show()"
   ]
  },
  {
   "cell_type": "markdown",
   "metadata": {},
   "source": [
    "The scatter plot indicate that within latitude: 3 and longitude: 102 and so, few universities are in that region. That\n",
    "means there is a certain state where more public universities are available than other states. Let's find it out by using pandas\n",
    "groupby() and counts() methods. "
   ]
  },
  {
   "cell_type": "code",
   "execution_count": 7,
   "metadata": {
    "scrolled": true
   },
   "outputs": [
    {
     "data": {
      "text/plain": [
       "State\n",
       "Johor              2\n",
       "Kedah              1\n",
       "Kelantan           1\n",
       "Kuala Lumpur       2\n",
       "Melaka             1\n",
       "Negeri Sembilan    1\n",
       "Pahang             1\n",
       "Penang             1\n",
       "Perak              1\n",
       "Perlis             1\n",
       "Sabah              1\n",
       "Sarawak            1\n",
       "Selangor           4\n",
       "Terengganu         2\n",
       "Name: University_Name, dtype: int64"
      ]
     },
     "execution_count": 7,
     "metadata": {},
     "output_type": "execute_result"
    }
   ],
   "source": [
    "df_public_university_malaysia.groupby('State').count().University_Name"
   ]
  },
  {
   "cell_type": "markdown",
   "metadata": {},
   "source": [
    "Ok that is interesting. We can see that Selangor state has 4 public universities. The reason can be, in that state population is\n",
    "high and so on. Anyways, this is not my concern for this project. I am moving to my final state of this project."
   ]
  },
  {
   "cell_type": "markdown",
   "metadata": {},
   "source": [
    "### Using folium"
   ]
  },
  {
   "cell_type": "code",
   "execution_count": 8,
   "metadata": {},
   "outputs": [
    {
     "data": {
      "text/html": [
       "<div style=\"width:100%;\"><div style=\"position:relative;width:100%;height:0;padding-bottom:60%;\"><iframe src=\"data:text/html;charset=utf-8;base64,PCFET0NUWVBFIGh0bWw+CjxoZWFkPiAgICAKICAgIDxtZXRhIGh0dHAtZXF1aXY9ImNvbnRlbnQtdHlwZSIgY29udGVudD0idGV4dC9odG1sOyBjaGFyc2V0PVVURi04IiAvPgogICAgPHNjcmlwdD5MX1BSRUZFUl9DQU5WQVM9ZmFsc2U7IExfTk9fVE9VQ0g9ZmFsc2U7IExfRElTQUJMRV8zRD1mYWxzZTs8L3NjcmlwdD4KICAgIDxzY3JpcHQgc3JjPSJodHRwczovL2Nkbi5qc2RlbGl2ci5uZXQvbnBtL2xlYWZsZXRAMS4zLjQvZGlzdC9sZWFmbGV0LmpzIj48L3NjcmlwdD4KICAgIDxzY3JpcHQgc3JjPSJodHRwczovL2FqYXguZ29vZ2xlYXBpcy5jb20vYWpheC9saWJzL2pxdWVyeS8xLjExLjEvanF1ZXJ5Lm1pbi5qcyI+PC9zY3JpcHQ+CiAgICA8c2NyaXB0IHNyYz0iaHR0cHM6Ly9tYXhjZG4uYm9vdHN0cmFwY2RuLmNvbS9ib290c3RyYXAvMy4yLjAvanMvYm9vdHN0cmFwLm1pbi5qcyI+PC9zY3JpcHQ+CiAgICA8c2NyaXB0IHNyYz0iaHR0cHM6Ly9jZG5qcy5jbG91ZGZsYXJlLmNvbS9hamF4L2xpYnMvTGVhZmxldC5hd2Vzb21lLW1hcmtlcnMvMi4wLjIvbGVhZmxldC5hd2Vzb21lLW1hcmtlcnMuanMiPjwvc2NyaXB0PgogICAgPGxpbmsgcmVsPSJzdHlsZXNoZWV0IiBocmVmPSJodHRwczovL2Nkbi5qc2RlbGl2ci5uZXQvbnBtL2xlYWZsZXRAMS4zLjQvZGlzdC9sZWFmbGV0LmNzcyIvPgogICAgPGxpbmsgcmVsPSJzdHlsZXNoZWV0IiBocmVmPSJodHRwczovL21heGNkbi5ib290c3RyYXBjZG4uY29tL2Jvb3RzdHJhcC8zLjIuMC9jc3MvYm9vdHN0cmFwLm1pbi5jc3MiLz4KICAgIDxsaW5rIHJlbD0ic3R5bGVzaGVldCIgaHJlZj0iaHR0cHM6Ly9tYXhjZG4uYm9vdHN0cmFwY2RuLmNvbS9ib290c3RyYXAvMy4yLjAvY3NzL2Jvb3RzdHJhcC10aGVtZS5taW4uY3NzIi8+CiAgICA8bGluayByZWw9InN0eWxlc2hlZXQiIGhyZWY9Imh0dHBzOi8vbWF4Y2RuLmJvb3RzdHJhcGNkbi5jb20vZm9udC1hd2Vzb21lLzQuNi4zL2Nzcy9mb250LWF3ZXNvbWUubWluLmNzcyIvPgogICAgPGxpbmsgcmVsPSJzdHlsZXNoZWV0IiBocmVmPSJodHRwczovL2NkbmpzLmNsb3VkZmxhcmUuY29tL2FqYXgvbGlicy9MZWFmbGV0LmF3ZXNvbWUtbWFya2Vycy8yLjAuMi9sZWFmbGV0LmF3ZXNvbWUtbWFya2Vycy5jc3MiLz4KICAgIDxsaW5rIHJlbD0ic3R5bGVzaGVldCIgaHJlZj0iaHR0cHM6Ly9yYXdjZG4uZ2l0aGFjay5jb20vcHl0aG9uLXZpc3VhbGl6YXRpb24vZm9saXVtL21hc3Rlci9mb2xpdW0vdGVtcGxhdGVzL2xlYWZsZXQuYXdlc29tZS5yb3RhdGUuY3NzIi8+CiAgICA8c3R5bGU+aHRtbCwgYm9keSB7d2lkdGg6IDEwMCU7aGVpZ2h0OiAxMDAlO21hcmdpbjogMDtwYWRkaW5nOiAwO308L3N0eWxlPgogICAgPHN0eWxlPiNtYXAge3Bvc2l0aW9uOmFic29sdXRlO3RvcDowO2JvdHRvbTowO3JpZ2h0OjA7bGVmdDowO308L3N0eWxlPgogICAgCiAgICA8bWV0YSBuYW1lPSJ2aWV3cG9ydCIgY29udGVudD0id2lkdGg9ZGV2aWNlLXdpZHRoLAogICAgICAgIGluaXRpYWwtc2NhbGU9MS4wLCBtYXhpbXVtLXNjYWxlPTEuMCwgdXNlci1zY2FsYWJsZT1ubyIgLz4KICAgIDxzdHlsZT4jbWFwX2ZlNDgyZTQyMzViYjQzMmZiZjhhZWY1NGIwZTE0ZTlkIHsKICAgICAgICBwb3NpdGlvbjogcmVsYXRpdmU7CiAgICAgICAgd2lkdGg6IDEwMC4wJTsKICAgICAgICBoZWlnaHQ6IDEwMC4wJTsKICAgICAgICBsZWZ0OiAwLjAlOwogICAgICAgIHRvcDogMC4wJTsKICAgICAgICB9CiAgICA8L3N0eWxlPgo8L2hlYWQ+Cjxib2R5PiAgICAKICAgIAogICAgPGRpdiBjbGFzcz0iZm9saXVtLW1hcCIgaWQ9Im1hcF9mZTQ4MmU0MjM1YmI0MzJmYmY4YWVmNTRiMGUxNGU5ZCIgPjwvZGl2Pgo8L2JvZHk+CjxzY3JpcHQ+ICAgIAogICAgCiAgICAKICAgICAgICB2YXIgYm91bmRzID0gbnVsbDsKICAgIAoKICAgIHZhciBtYXBfZmU0ODJlNDIzNWJiNDMyZmJmOGFlZjU0YjBlMTRlOWQgPSBMLm1hcCgKICAgICAgICAnbWFwX2ZlNDgyZTQyMzViYjQzMmZiZjhhZWY1NGIwZTE0ZTlkJywgewogICAgICAgIGNlbnRlcjogWzEuNTU5NTgsIDEwMy42Mzc0ODldLAogICAgICAgIHpvb206IDYsCiAgICAgICAgbWF4Qm91bmRzOiBib3VuZHMsCiAgICAgICAgbGF5ZXJzOiBbXSwKICAgICAgICB3b3JsZENvcHlKdW1wOiBmYWxzZSwKICAgICAgICBjcnM6IEwuQ1JTLkVQU0czODU3LAogICAgICAgIHpvb21Db250cm9sOiB0cnVlLAogICAgICAgIH0pOwoKICAgIAogICAgCiAgICB2YXIgdGlsZV9sYXllcl9iZDM0MThkYzJhMzY0YWVkODlmYjg2OGRmNTNkYTA2OSA9IEwudGlsZUxheWVyKAogICAgICAgICdodHRwczovL3tzfS50aWxlLm9wZW5zdHJlZXRtYXAub3JnL3t6fS97eH0ve3l9LnBuZycsCiAgICAgICAgewogICAgICAgICJhdHRyaWJ1dGlvbiI6IG51bGwsCiAgICAgICAgImRldGVjdFJldGluYSI6IGZhbHNlLAogICAgICAgICJtYXhOYXRpdmVab29tIjogMTgsCiAgICAgICAgIm1heFpvb20iOiAxOCwKICAgICAgICAibWluWm9vbSI6IDAsCiAgICAgICAgIm5vV3JhcCI6IGZhbHNlLAogICAgICAgICJvcGFjaXR5IjogMSwKICAgICAgICAic3ViZG9tYWlucyI6ICJhYmMiLAogICAgICAgICJ0bXMiOiBmYWxzZQp9KS5hZGRUbyhtYXBfZmU0ODJlNDIzNWJiNDMyZmJmOGFlZjU0YjBlMTRlOWQpOwogICAgCiAgICAgICAgdmFyIG1hcmtlcl80YTQ3YWU3NWM3ODc0MmY2OTQ3MDU0OTI4ZmMxMjI2OCA9IEwubWFya2VyKAogICAgICAgICAgICBbMy4xMjAxMDEsIDEwMS42NTQzOTZdLAogICAgICAgICAgICB7CiAgICAgICAgICAgICAgICBpY29uOiBuZXcgTC5JY29uLkRlZmF1bHQoKQogICAgICAgICAgICAgICAgfQogICAgICAgICAgICApLmFkZFRvKG1hcF9mZTQ4MmU0MjM1YmI0MzJmYmY4YWVmNTRiMGUxNGU5ZCk7CiAgICAgICAgCiAgICAKICAgICAgICAgICAgdmFyIHBvcHVwXzgxZDA4ODZiMzdmZjRiMmNhYjRiYjNjZjdmMDY1YjgwID0gTC5wb3B1cCh7bWF4V2lkdGg6ICczMDAnCiAgICAgICAgICAgIAogICAgICAgICAgICB9KTsKCiAgICAgICAgICAgIAogICAgICAgICAgICAgICAgdmFyIGh0bWxfYjlmMDk1ODE3MGRjNDYxNDk4ZGQwNTVjYzNiNzExYmEgPSAkKGA8ZGl2IGlkPSJodG1sX2I5ZjA5NTgxNzBkYzQ2MTQ5OGRkMDU1Y2MzYjcxMWJhIiBzdHlsZT0id2lkdGg6IDEwMC4wJTsgaGVpZ2h0OiAxMDAuMCU7Ij5Vbml2ZXJzaXRpIE1hbGF5YTwvZGl2PmApWzBdOwogICAgICAgICAgICAgICAgcG9wdXBfODFkMDg4NmIzN2ZmNGIyY2FiNGJiM2NmN2YwNjViODAuc2V0Q29udGVudChodG1sX2I5ZjA5NTgxNzBkYzQ2MTQ5OGRkMDU1Y2MzYjcxMWJhKTsKICAgICAgICAgICAgCgogICAgICAgICAgICBtYXJrZXJfNGE0N2FlNzVjNzg3NDJmNjk0NzA1NDkyOGZjMTIyNjguYmluZFBvcHVwKHBvcHVwXzgxZDA4ODZiMzdmZjRiMmNhYjRiYjNjZjdmMDY1YjgwKQogICAgICAgICAgICA7CgogICAgICAgICAgICAKICAgICAgICAKICAgIAogICAgICAgIHZhciBtYXJrZXJfNWQ2ODJjZDdhYTU2NGUwZWFiNTIxZmQwZTM5NzcxM2YgPSBMLm1hcmtlcigKICAgICAgICAgICAgWzUuMzU1ODcsIDEwMC4yOTYxODhdLAogICAgICAgICAgICB7CiAgICAgICAgICAgICAgICBpY29uOiBuZXcgTC5JY29uLkRlZmF1bHQoKQogICAgICAgICAgICAgICAgfQogICAgICAgICAgICApLmFkZFRvKG1hcF9mZTQ4MmU0MjM1YmI0MzJmYmY4YWVmNTRiMGUxNGU5ZCk7CiAgICAgICAgCiAgICAKICAgICAgICAgICAgdmFyIHBvcHVwXzI4YjE2MjQ1YTJlMjRhNGU4ODVhYTE5Y2I4YzExYWE0ID0gTC5wb3B1cCh7bWF4V2lkdGg6ICczMDAnCiAgICAgICAgICAgIAogICAgICAgICAgICB9KTsKCiAgICAgICAgICAgIAogICAgICAgICAgICAgICAgdmFyIGh0bWxfYmRlMDlmNzJhYTIyNDE2NWE3ZjE2OTdiZjg2YWZlMjggPSAkKGA8ZGl2IGlkPSJodG1sX2JkZTA5ZjcyYWEyMjQxNjVhN2YxNjk3YmY4NmFmZTI4IiBzdHlsZT0id2lkdGg6IDEwMC4wJTsgaGVpZ2h0OiAxMDAuMCU7Ij5Vbml2ZXJzaXRpIFNhaW5zIE1hbGF5c2lhIDwvZGl2PmApWzBdOwogICAgICAgICAgICAgICAgcG9wdXBfMjhiMTYyNDVhMmUyNGE0ZTg4NWFhMTljYjhjMTFhYTQuc2V0Q29udGVudChodG1sX2JkZTA5ZjcyYWEyMjQxNjVhN2YxNjk3YmY4NmFmZTI4KTsKICAgICAgICAgICAgCgogICAgICAgICAgICBtYXJrZXJfNWQ2ODJjZDdhYTU2NGUwZWFiNTIxZmQwZTM5NzcxM2YuYmluZFBvcHVwKHBvcHVwXzI4YjE2MjQ1YTJlMjRhNGU4ODVhYTE5Y2I4YzExYWE0KQogICAgICAgICAgICA7CgogICAgICAgICAgICAKICAgICAgICAKICAgIAogICAgICAgIHZhciBtYXJrZXJfZjM1NTEyN2Q1MmUwNGE0MThhNGNmN2ZlMTk5OTQ3YzggPSBMLm1hcmtlcigKICAgICAgICAgICAgWzIuOTMwNDMsIDEwMS43NzczMjhdLAogICAgICAgICAgICB7CiAgICAgICAgICAgICAgICBpY29uOiBuZXcgTC5JY29uLkRlZmF1bHQoKQogICAgICAgICAgICAgICAgfQogICAgICAgICAgICApLmFkZFRvKG1hcF9mZTQ4MmU0MjM1YmI0MzJmYmY4YWVmNTRiMGUxNGU5ZCk7CiAgICAgICAgCiAgICAKICAgICAgICAgICAgdmFyIHBvcHVwX2VlMjg0MTEzMmY5MTQ2YjY5YWNlNzI2MTIxYjA5NGIzID0gTC5wb3B1cCh7bWF4V2lkdGg6ICczMDAnCiAgICAgICAgICAgIAogICAgICAgICAgICB9KTsKCiAgICAgICAgICAgIAogICAgICAgICAgICAgICAgdmFyIGh0bWxfNGVlODEwYTJjMmE3NDUwYTkzYTAwYzc1NGY3MDIzYWMgPSAkKGA8ZGl2IGlkPSJodG1sXzRlZTgxMGEyYzJhNzQ1MGE5M2EwMGM3NTRmNzAyM2FjIiBzdHlsZT0id2lkdGg6IDEwMC4wJTsgaGVpZ2h0OiAxMDAuMCU7Ij5Vbml2ZXJzaXRpIEtlYmFuZ3NhYW4gTWFsYXlzaWE8L2Rpdj5gKVswXTsKICAgICAgICAgICAgICAgIHBvcHVwX2VlMjg0MTEzMmY5MTQ2YjY5YWNlNzI2MTIxYjA5NGIzLnNldENvbnRlbnQoaHRtbF80ZWU4MTBhMmMyYTc0NTBhOTNhMDBjNzU0ZjcwMjNhYyk7CiAgICAgICAgICAgIAoKICAgICAgICAgICAgbWFya2VyX2YzNTUxMjdkNTJlMDRhNDE4YTRjZjdmZTE5OTk0N2M4LmJpbmRQb3B1cChwb3B1cF9lZTI4NDExMzJmOTE0NmI2OWFjZTcyNjEyMWIwOTRiMykKICAgICAgICAgICAgOwoKICAgICAgICAgICAgCiAgICAgICAgCiAgICAKICAgICAgICB2YXIgbWFya2VyXzdkZWJiYzc1ODE2NDQ0NzRhZjgzNDJmM2VmMzEyZmUzID0gTC5tYXJrZXIoCiAgICAgICAgICAgIFszLjAxMDcyLCAxMDEuNzIwOTA5XSwKICAgICAgICAgICAgewogICAgICAgICAgICAgICAgaWNvbjogbmV3IEwuSWNvbi5EZWZhdWx0KCkKICAgICAgICAgICAgICAgIH0KICAgICAgICAgICAgKS5hZGRUbyhtYXBfZmU0ODJlNDIzNWJiNDMyZmJmOGFlZjU0YjBlMTRlOWQpOwogICAgICAgIAogICAgCiAgICAgICAgICAgIHZhciBwb3B1cF84ZTkyMWExNjRhMDI0ZWIzYTVhNzBkNzU4Mjc2ODZlMyA9IEwucG9wdXAoe21heFdpZHRoOiAnMzAwJwogICAgICAgICAgICAKICAgICAgICAgICAgfSk7CgogICAgICAgICAgICAKICAgICAgICAgICAgICAgIHZhciBodG1sXzZlZGIxYzA3NzYxMDRhNmE5MWI3MjY3ZDIyNTQxMjE2ID0gJChgPGRpdiBpZD0iaHRtbF82ZWRiMWMwNzc2MTA0YTZhOTFiNzI2N2QyMjU0MTIxNiIgc3R5bGU9IndpZHRoOiAxMDAuMCU7IGhlaWdodDogMTAwLjAlOyI+VW5pdmVyc2l0aSBQdXRyYSBNYWxheXNpYTwvZGl2PmApWzBdOwogICAgICAgICAgICAgICAgcG9wdXBfOGU5MjFhMTY0YTAyNGViM2E1YTcwZDc1ODI3Njg2ZTMuc2V0Q29udGVudChodG1sXzZlZGIxYzA3NzYxMDRhNmE5MWI3MjY3ZDIyNTQxMjE2KTsKICAgICAgICAgICAgCgogICAgICAgICAgICBtYXJrZXJfN2RlYmJjNzU4MTY0NDQ3NGFmODM0MmYzZWYzMTJmZTMuYmluZFBvcHVwKHBvcHVwXzhlOTIxYTE2NGEwMjRlYjNhNWE3MGQ3NTgyNzY4NmUzKQogICAgICAgICAgICA7CgogICAgICAgICAgICAKICAgICAgICAKICAgIAogICAgICAgIHZhciBtYXJrZXJfMzFhOGYzYzZkMDRlNDA0ZmFlODY1ZTg5ZTJjNTI3ZTQgPSBMLm1hcmtlcigKICAgICAgICAgICAgWzEuNTU5NTgsIDEwMy42Mzc0ODldLAogICAgICAgICAgICB7CiAgICAgICAgICAgICAgICBpY29uOiBuZXcgTC5JY29uLkRlZmF1bHQoKQogICAgICAgICAgICAgICAgfQogICAgICAgICAgICApLmFkZFRvKG1hcF9mZTQ4MmU0MjM1YmI0MzJmYmY4YWVmNTRiMGUxNGU5ZCk7CiAgICAgICAgCiAgICAKICAgICAgICAgICAgdmFyIHBvcHVwXzc3ZTM4MzQzOTJlMjQ2NTJiODA4ZjhkNDI2MmY2ZmUzID0gTC5wb3B1cCh7bWF4V2lkdGg6ICczMDAnCiAgICAgICAgICAgIAogICAgICAgICAgICB9KTsKCiAgICAgICAgICAgIAogICAgICAgICAgICAgICAgdmFyIGh0bWxfMjk4MmQxNDVmNDNmNDRmM2E4MzdiYzg1ZmUzMjdkZmMgPSAkKGA8ZGl2IGlkPSJodG1sXzI5ODJkMTQ1ZjQzZjQ0ZjNhODM3YmM4NWZlMzI3ZGZjIiBzdHlsZT0id2lkdGg6IDEwMC4wJTsgaGVpZ2h0OiAxMDAuMCU7Ij5Vbml2ZXJzaXRpIFRla25vbG9naSBNYWxheXNpYTwvZGl2PmApWzBdOwogICAgICAgICAgICAgICAgcG9wdXBfNzdlMzgzNDM5MmUyNDY1MmI4MDhmOGQ0MjYyZjZmZTMuc2V0Q29udGVudChodG1sXzI5ODJkMTQ1ZjQzZjQ0ZjNhODM3YmM4NWZlMzI3ZGZjKTsKICAgICAgICAgICAgCgogICAgICAgICAgICBtYXJrZXJfMzFhOGYzYzZkMDRlNDA0ZmFlODY1ZTg5ZTJjNTI3ZTQuYmluZFBvcHVwKHBvcHVwXzc3ZTM4MzQzOTJlMjQ2NTJiODA4ZjhkNDI2MmY2ZmUzKQogICAgICAgICAgICA7CgogICAgICAgICAgICAKICAgICAgICAKICAgIAogICAgICAgIHZhciBtYXJrZXJfNWQ3ZjJiNjg1MDk5NDhiM2JmYjY1Y2NlNmUwYWNhMGQgPSBMLm1hcmtlcigKICAgICAgICAgICAgWzMuMDY3NiwgMTAxLjQ5OTJdLAogICAgICAgICAgICB7CiAgICAgICAgICAgICAgICBpY29uOiBuZXcgTC5JY29uLkRlZmF1bHQoKQogICAgICAgICAgICAgICAgfQogICAgICAgICAgICApLmFkZFRvKG1hcF9mZTQ4MmU0MjM1YmI0MzJmYmY4YWVmNTRiMGUxNGU5ZCk7CiAgICAgICAgCiAgICAKICAgICAgICAgICAgdmFyIHBvcHVwX2VkNzBkMmY2NGI4MDRhNzZiZTc1ZGQ5ODZhOGQ1MmI1ID0gTC5wb3B1cCh7bWF4V2lkdGg6ICczMDAnCiAgICAgICAgICAgIAogICAgICAgICAgICB9KTsKCiAgICAgICAgICAgIAogICAgICAgICAgICAgICAgdmFyIGh0bWxfMDkwNjgwY2MxOGI5NDBiNDk3MGYzYWQ1YWYwNjJiZjIgPSAkKGA8ZGl2IGlkPSJodG1sXzA5MDY4MGNjMThiOTQwYjQ5NzBmM2FkNWFmMDYyYmYyIiBzdHlsZT0id2lkdGg6IDEwMC4wJTsgaGVpZ2h0OiAxMDAuMCU7Ij5Vbml2ZXJzaXRpIFRla25vbG9naSBNQVJBPC9kaXY+YClbMF07CiAgICAgICAgICAgICAgICBwb3B1cF9lZDcwZDJmNjRiODA0YTc2YmU3NWRkOTg2YThkNTJiNS5zZXRDb250ZW50KGh0bWxfMDkwNjgwY2MxOGI5NDBiNDk3MGYzYWQ1YWYwNjJiZjIpOwogICAgICAgICAgICAKCiAgICAgICAgICAgIG1hcmtlcl81ZDdmMmI2ODUwOTk0OGIzYmZiNjVjY2U2ZTBhY2EwZC5iaW5kUG9wdXAocG9wdXBfZWQ3MGQyZjY0YjgwNGE3NmJlNzVkZDk4NmE4ZDUyYjUpCiAgICAgICAgICAgIDsKCiAgICAgICAgICAgIAogICAgICAgIAogICAgCiAgICAgICAgdmFyIG1hcmtlcl9iMmIxYTQ2NDg3MzQ0ZDcxODEzODU1N2YyZDE1NmE5OCA9IEwubWFya2VyKAogICAgICAgICAgICBbMy4yNDg5LCAxMDEuNzc3MzI4XSwKICAgICAgICAgICAgewogICAgICAgICAgICAgICAgaWNvbjogbmV3IEwuSWNvbi5EZWZhdWx0KCkKICAgICAgICAgICAgICAgIH0KICAgICAgICAgICAgKS5hZGRUbyhtYXBfZmU0ODJlNDIzNWJiNDMyZmJmOGFlZjU0YjBlMTRlOWQpOwogICAgICAgIAogICAgCiAgICAgICAgICAgIHZhciBwb3B1cF9kNGM4NzgxZTg2ZTk0M2JlYTU1NmMxMTZhYmY4YTU3NSA9IEwucG9wdXAoe21heFdpZHRoOiAnMzAwJwogICAgICAgICAgICAKICAgICAgICAgICAgfSk7CgogICAgICAgICAgICAKICAgICAgICAgICAgICAgIHZhciBodG1sX2M0Mzk4YjUyNzE5NjRkZDg4ZWU5NzlkODZhYmJhZjQ2ID0gJChgPGRpdiBpZD0iaHRtbF9jNDM5OGI1MjcxOTY0ZGQ4OGVlOTc5ZDg2YWJiYWY0NiIgc3R5bGU9IndpZHRoOiAxMDAuMCU7IGhlaWdodDogMTAwLjAlOyI+VW5pdmVyc2l0aSBJc2xhbSBBbnRhcmFiYW5nc2EgTWFsYXlzaWE8L2Rpdj5gKVswXTsKICAgICAgICAgICAgICAgIHBvcHVwX2Q0Yzg3ODFlODZlOTQzYmVhNTU2YzExNmFiZjhhNTc1LnNldENvbnRlbnQoaHRtbF9jNDM5OGI1MjcxOTY0ZGQ4OGVlOTc5ZDg2YWJiYWY0Nik7CiAgICAgICAgICAgIAoKICAgICAgICAgICAgbWFya2VyX2IyYjFhNDY0ODczNDRkNzE4MTM4NTU3ZjJkMTU2YTk4LmJpbmRQb3B1cChwb3B1cF9kNGM4NzgxZTg2ZTk0M2JlYTU1NmMxMTZhYmY4YTU3NSkKICAgICAgICAgICAgOwoKICAgICAgICAgICAgCiAgICAgICAgCiAgICAKICAgICAgICB2YXIgbWFya2VyXzU0NDhkM2I4MWI0NTRmNmY4MjliNWY4ODljZDgzYWZhID0gTC5tYXJrZXIoCiAgICAgICAgICAgIFs2LjQ1NzUxLCAxMDAuNTA1NDMyXSwKICAgICAgICAgICAgewogICAgICAgICAgICAgICAgaWNvbjogbmV3IEwuSWNvbi5EZWZhdWx0KCkKICAgICAgICAgICAgICAgIH0KICAgICAgICAgICAgKS5hZGRUbyhtYXBfZmU0ODJlNDIzNWJiNDMyZmJmOGFlZjU0YjBlMTRlOWQpOwogICAgICAgIAogICAgCiAgICAgICAgICAgIHZhciBwb3B1cF8xOTVhZWY4ZTcyNGE0ZDg3OWE3OGIyYmVkNmZmNDg4OSA9IEwucG9wdXAoe21heFdpZHRoOiAnMzAwJwogICAgICAgICAgICAKICAgICAgICAgICAgfSk7CgogICAgICAgICAgICAKICAgICAgICAgICAgICAgIHZhciBodG1sXzI1N2FhZjIzNDg0ZTRhNDhhMjFkNWRlOTQxNmQxZTk0ID0gJChgPGRpdiBpZD0iaHRtbF8yNTdhYWYyMzQ4NGU0YTQ4YTIxZDVkZTk0MTZkMWU5NCIgc3R5bGU9IndpZHRoOiAxMDAuMCU7IGhlaWdodDogMTAwLjAlOyI+VW5pdmVyc2l0aSBVdGFyYSBNYWxheXNpYTwvZGl2PmApWzBdOwogICAgICAgICAgICAgICAgcG9wdXBfMTk1YWVmOGU3MjRhNGQ4NzlhNzhiMmJlZDZmZjQ4ODkuc2V0Q29udGVudChodG1sXzI1N2FhZjIzNDg0ZTRhNDhhMjFkNWRlOTQxNmQxZTk0KTsKICAgICAgICAgICAgCgogICAgICAgICAgICBtYXJrZXJfNTQ0OGQzYjgxYjQ1NGY2ZjgyOWI1Zjg4OWNkODNhZmEuYmluZFBvcHVwKHBvcHVwXzE5NWFlZjhlNzI0YTRkODc5YTc4YjJiZWQ2ZmY0ODg5KQogICAgICAgICAgICA7CgogICAgICAgICAgICAKICAgICAgICAKICAgIAogICAgICAgIHZhciBtYXJrZXJfYzdmOTJmYjEzMWJkNGVlYThlMWE2Y2VmMjcyOGNhNjIgPSBMLm1hcmtlcigKICAgICAgICAgICAgWzEuNDY0OTIyLCAxMTAuNDI2ODU1XSwKICAgICAgICAgICAgewogICAgICAgICAgICAgICAgaWNvbjogbmV3IEwuSWNvbi5EZWZhdWx0KCkKICAgICAgICAgICAgICAgIH0KICAgICAgICAgICAgKS5hZGRUbyhtYXBfZmU0ODJlNDIzNWJiNDMyZmJmOGFlZjU0YjBlMTRlOWQpOwogICAgICAgIAogICAgCiAgICAgICAgICAgIHZhciBwb3B1cF80MTljNGZhNGVjYWE0ZjBmYTExZTAxMjBlZjY1ZWMyYSA9IEwucG9wdXAoe21heFdpZHRoOiAnMzAwJwogICAgICAgICAgICAKICAgICAgICAgICAgfSk7CgogICAgICAgICAgICAKICAgICAgICAgICAgICAgIHZhciBodG1sXzNlNDM4M2RhNmIwODQwYjQ5OWFlNzJhYzQwZjU3NmExID0gJChgPGRpdiBpZD0iaHRtbF8zZTQzODNkYTZiMDg0MGI0OTlhZTcyYWM0MGY1NzZhMSIgc3R5bGU9IndpZHRoOiAxMDAuMCU7IGhlaWdodDogMTAwLjAlOyI+VW5pdmVyc2l0aSBNYWxheXNpYSBTYXJhd2FrPC9kaXY+YClbMF07CiAgICAgICAgICAgICAgICBwb3B1cF80MTljNGZhNGVjYWE0ZjBmYTExZTAxMjBlZjY1ZWMyYS5zZXRDb250ZW50KGh0bWxfM2U0MzgzZGE2YjA4NDBiNDk5YWU3MmFjNDBmNTc2YTEpOwogICAgICAgICAgICAKCiAgICAgICAgICAgIG1hcmtlcl9jN2Y5MmZiMTMxYmQ0ZWVhOGUxYTZjZWYyNzI4Y2E2Mi5iaW5kUG9wdXAocG9wdXBfNDE5YzRmYTRlY2FhNGYwZmExMWUwMTIwZWY2NWVjMmEpCiAgICAgICAgICAgIDsKCiAgICAgICAgICAgIAogICAgICAgIAogICAgCiAgICAgICAgdmFyIG1hcmtlcl9kZjdkYjUwNTVhNjQ0ZWY5YjRhOWFmODFhODQ2MzI2YSA9IEwubWFya2VyKAogICAgICAgICAgICBbNi4wNDI2NywgMTE2LjE0NzU2XSwKICAgICAgICAgICAgewogICAgICAgICAgICAgICAgaWNvbjogbmV3IEwuSWNvbi5EZWZhdWx0KCkKICAgICAgICAgICAgICAgIH0KICAgICAgICAgICAgKS5hZGRUbyhtYXBfZmU0ODJlNDIzNWJiNDMyZmJmOGFlZjU0YjBlMTRlOWQpOwogICAgICAgIAogICAgCiAgICAgICAgICAgIHZhciBwb3B1cF8wODk5ZTg3NTY4NTE0MTc1OTAzYzM1MmY3ZjgwY2E5NiA9IEwucG9wdXAoe21heFdpZHRoOiAnMzAwJwogICAgICAgICAgICAKICAgICAgICAgICAgfSk7CgogICAgICAgICAgICAKICAgICAgICAgICAgICAgIHZhciBodG1sXzljZDA0MjllMmJhNzRiYmU5NWI3OWQ1ZDgwZjFmZDFhID0gJChgPGRpdiBpZD0iaHRtbF85Y2QwNDI5ZTJiYTc0YmJlOTViNzlkNWQ4MGYxZmQxYSIgc3R5bGU9IndpZHRoOiAxMDAuMCU7IGhlaWdodDogMTAwLjAlOyI+VW5pdmVyc2l0aSBNYWxheXNpYSBTYWJhaDwvZGl2PmApWzBdOwogICAgICAgICAgICAgICAgcG9wdXBfMDg5OWU4NzU2ODUxNDE3NTkwM2MzNTJmN2Y4MGNhOTYuc2V0Q29udGVudChodG1sXzljZDA0MjllMmJhNzRiYmU5NWI3OWQ1ZDgwZjFmZDFhKTsKICAgICAgICAgICAgCgogICAgICAgICAgICBtYXJrZXJfZGY3ZGI1MDU1YTY0NGVmOWI0YTlhZjgxYTg0NjMyNmEuYmluZFBvcHVwKHBvcHVwXzA4OTllODc1Njg1MTQxNzU5MDNjMzUyZjdmODBjYTk2KQogICAgICAgICAgICA7CgogICAgICAgICAgICAKICAgICAgICAKICAgIAogICAgICAgIHZhciBtYXJrZXJfNDZlZjJlOWMxYjM4NGE4YTlmNjJlYmYxNmFkMDBjYTIgPSBMLm1hcmtlcigKICAgICAgICAgICAgWzMuNjg1MDQ4LCAxMDEuNTI0MDk0XSwKICAgICAgICAgICAgewogICAgICAgICAgICAgICAgaWNvbjogbmV3IEwuSWNvbi5EZWZhdWx0KCkKICAgICAgICAgICAgICAgIH0KICAgICAgICAgICAgKS5hZGRUbyhtYXBfZmU0ODJlNDIzNWJiNDMyZmJmOGFlZjU0YjBlMTRlOWQpOwogICAgICAgIAogICAgCiAgICAgICAgICAgIHZhciBwb3B1cF9jZWRkOTQ1NmJkN2E0NTNjYTRlNDRhZjMyNDg1YjI5MCA9IEwucG9wdXAoe21heFdpZHRoOiAnMzAwJwogICAgICAgICAgICAKICAgICAgICAgICAgfSk7CgogICAgICAgICAgICAKICAgICAgICAgICAgICAgIHZhciBodG1sXzIxMWI4ZmYzMGI5MTQ5MDhiNTgzMTE3YTk2YjZiM2MyID0gJChgPGRpdiBpZD0iaHRtbF8yMTFiOGZmMzBiOTE0OTA4YjU4MzExN2E5NmI2YjNjMiIgc3R5bGU9IndpZHRoOiAxMDAuMCU7IGhlaWdodDogMTAwLjAlOyI+VW5pdmVyc2l0aSBQZW5kaWRpa2FuIFN1bHRhbiBJZHJpczwvZGl2PmApWzBdOwogICAgICAgICAgICAgICAgcG9wdXBfY2VkZDk0NTZiZDdhNDUzY2E0ZTQ0YWYzMjQ4NWIyOTAuc2V0Q29udGVudChodG1sXzIxMWI4ZmYzMGI5MTQ5MDhiNTgzMTE3YTk2YjZiM2MyKTsKICAgICAgICAgICAgCgogICAgICAgICAgICBtYXJrZXJfNDZlZjJlOWMxYjM4NGE4YTlmNjJlYmYxNmFkMDBjYTIuYmluZFBvcHVwKHBvcHVwX2NlZGQ5NDU2YmQ3YTQ1M2NhNGU0NGFmMzI0ODViMjkwKQogICAgICAgICAgICA7CgogICAgICAgICAgICAKICAgICAgICAKICAgIAogICAgICAgIHZhciBtYXJrZXJfMjliNGY2ZTM3NDBiNDJlOWIzNzY2ZGY2MGE3MGJkMjQgPSBMLm1hcmtlcigKICAgICAgICAgICAgWzIuODQ0MjA0LCAxMDEuNzgxODldLAogICAgICAgICAgICB7CiAgICAgICAgICAgICAgICBpY29uOiBuZXcgTC5JY29uLkRlZmF1bHQoKQogICAgICAgICAgICAgICAgfQogICAgICAgICAgICApLmFkZFRvKG1hcF9mZTQ4MmU0MjM1YmI0MzJmYmY4YWVmNTRiMGUxNGU5ZCk7CiAgICAgICAgCiAgICAKICAgICAgICAgICAgdmFyIHBvcHVwXzkxNTIwYTMxMTkwNzQ4ZDRiNWQ5YzA5NGM3NGEzMjFmID0gTC5wb3B1cCh7bWF4V2lkdGg6ICczMDAnCiAgICAgICAgICAgIAogICAgICAgICAgICB9KTsKCiAgICAgICAgICAgIAogICAgICAgICAgICAgICAgdmFyIGh0bWxfMjBhMjkzNjZlNWNiNDczNjlkMmM5Njg4NTcyOGNmMWUgPSAkKGA8ZGl2IGlkPSJodG1sXzIwYTI5MzY2ZTVjYjQ3MzY5ZDJjOTY4ODU3MjhjZjFlIiBzdHlsZT0id2lkdGg6IDEwMC4wJTsgaGVpZ2h0OiAxMDAuMCU7Ij5Vbml2ZXJzaXRpIFNhaW5zIElzbGFtIE1hbGF5c2lhPC9kaXY+YClbMF07CiAgICAgICAgICAgICAgICBwb3B1cF85MTUyMGEzMTE5MDc0OGQ0YjVkOWMwOTRjNzRhMzIxZi5zZXRDb250ZW50KGh0bWxfMjBhMjkzNjZlNWNiNDczNjlkMmM5Njg4NTcyOGNmMWUpOwogICAgICAgICAgICAKCiAgICAgICAgICAgIG1hcmtlcl8yOWI0ZjZlMzc0MGI0MmU5YjM3NjZkZjYwYTcwYmQyNC5iaW5kUG9wdXAocG9wdXBfOTE1MjBhMzExOTA3NDhkNGI1ZDljMDk0Yzc0YTMyMWYpCiAgICAgICAgICAgIDsKCiAgICAgICAgICAgIAogICAgICAgIAogICAgCiAgICAgICAgdmFyIG1hcmtlcl80ZjMyZTk4NGQ3OWU0OTI0ODgwZGYxZjlhMzhkY2I3ZCA9IEwubWFya2VyKAogICAgICAgICAgICBbNS40MDg3MTIsIDEwMy4wODg4MTNdLAogICAgICAgICAgICB7CiAgICAgICAgICAgICAgICBpY29uOiBuZXcgTC5JY29uLkRlZmF1bHQoKQogICAgICAgICAgICAgICAgfQogICAgICAgICAgICApLmFkZFRvKG1hcF9mZTQ4MmU0MjM1YmI0MzJmYmY4YWVmNTRiMGUxNGU5ZCk7CiAgICAgICAgCiAgICAKICAgICAgICAgICAgdmFyIHBvcHVwX2MxMDY5ZTgxYjk1ODQyOTFhN2YxZDZkOTA0ZDYxZWQ5ID0gTC5wb3B1cCh7bWF4V2lkdGg6ICczMDAnCiAgICAgICAgICAgIAogICAgICAgICAgICB9KTsKCiAgICAgICAgICAgIAogICAgICAgICAgICAgICAgdmFyIGh0bWxfODk3NzRjYWJiNmVhNDdmZThjNjlmOTE4ZTcwZWNhZGQgPSAkKGA8ZGl2IGlkPSJodG1sXzg5Nzc0Y2FiYjZlYTQ3ZmU4YzY5ZjkxOGU3MGVjYWRkIiBzdHlsZT0id2lkdGg6IDEwMC4wJTsgaGVpZ2h0OiAxMDAuMCU7Ij5Vbml2ZXJzaXRpIE1hbGF5c2lhIFRlcmVuZ2dhbnU8L2Rpdj5gKVswXTsKICAgICAgICAgICAgICAgIHBvcHVwX2MxMDY5ZTgxYjk1ODQyOTFhN2YxZDZkOTA0ZDYxZWQ5LnNldENvbnRlbnQoaHRtbF84OTc3NGNhYmI2ZWE0N2ZlOGM2OWY5MThlNzBlY2FkZCk7CiAgICAgICAgICAgIAoKICAgICAgICAgICAgbWFya2VyXzRmMzJlOTg0ZDc5ZTQ5MjQ4ODBkZjFmOWEzOGRjYjdkLmJpbmRQb3B1cChwb3B1cF9jMTA2OWU4MWI5NTg0MjkxYTdmMWQ2ZDkwNGQ2MWVkOSkKICAgICAgICAgICAgOwoKICAgICAgICAgICAgCiAgICAgICAgCiAgICAKICAgICAgICB2YXIgbWFya2VyXzFjNmU5ZTAxN2ZkNTQ3NjZiMTg2NWFkOGI1ODAzODRjID0gTC5tYXJrZXIoCiAgICAgICAgICAgIFsxLjg1ODYyNiwgMTAzLjA4NTU3OF0sCiAgICAgICAgICAgIHsKICAgICAgICAgICAgICAgIGljb246IG5ldyBMLkljb24uRGVmYXVsdCgpCiAgICAgICAgICAgICAgICB9CiAgICAgICAgICAgICkuYWRkVG8obWFwX2ZlNDgyZTQyMzViYjQzMmZiZjhhZWY1NGIwZTE0ZTlkKTsKICAgICAgICAKICAgIAogICAgICAgICAgICB2YXIgcG9wdXBfZjc1NzYxMGQ4MzQyNDNhMjllMTBkMDA4YmU4ZTY1NDMgPSBMLnBvcHVwKHttYXhXaWR0aDogJzMwMCcKICAgICAgICAgICAgCiAgICAgICAgICAgIH0pOwoKICAgICAgICAgICAgCiAgICAgICAgICAgICAgICB2YXIgaHRtbF81ZDRmNTg1ZDUxMDQ0YmExOWZiNzE4MDdlZmI3ZTVhZCA9ICQoYDxkaXYgaWQ9Imh0bWxfNWQ0ZjU4NWQ1MTA0NGJhMTlmYjcxODA3ZWZiN2U1YWQiIHN0eWxlPSJ3aWR0aDogMTAwLjAlOyBoZWlnaHQ6IDEwMC4wJTsiPlVuaXZlcnNpdGkgVHVuIEh1c3NlaW4gT25uIE1hbGF5c2lhPC9kaXY+YClbMF07CiAgICAgICAgICAgICAgICBwb3B1cF9mNzU3NjEwZDgzNDI0M2EyOWUxMGQwMDhiZThlNjU0My5zZXRDb250ZW50KGh0bWxfNWQ0ZjU4NWQ1MTA0NGJhMTlmYjcxODA3ZWZiN2U1YWQpOwogICAgICAgICAgICAKCiAgICAgICAgICAgIG1hcmtlcl8xYzZlOWUwMTdmZDU0NzY2YjE4NjVhZDhiNTgwMzg0Yy5iaW5kUG9wdXAocG9wdXBfZjc1NzYxMGQ4MzQyNDNhMjllMTBkMDA4YmU4ZTY1NDMpCiAgICAgICAgICAgIDsKCiAgICAgICAgICAgIAogICAgICAgIAogICAgCiAgICAgICAgdmFyIG1hcmtlcl9jNzI5OGMzNWZlNGQ0Yzc5YWVmOTY3YzEwYmVhNzY0ZSA9IEwubWFya2VyKAogICAgICAgICAgICBbMi4zMDYsIDEwMi4zMTc4NzFdLAogICAgICAgICAgICB7CiAgICAgICAgICAgICAgICBpY29uOiBuZXcgTC5JY29uLkRlZmF1bHQoKQogICAgICAgICAgICAgICAgfQogICAgICAgICAgICApLmFkZFRvKG1hcF9mZTQ4MmU0MjM1YmI0MzJmYmY4YWVmNTRiMGUxNGU5ZCk7CiAgICAgICAgCiAgICAKICAgICAgICAgICAgdmFyIHBvcHVwXzU2NjgzODExNDk1MTQ0NTliNWU3ODU2MzEwYjJmNDg1ID0gTC5wb3B1cCh7bWF4V2lkdGg6ICczMDAnCiAgICAgICAgICAgIAogICAgICAgICAgICB9KTsKCiAgICAgICAgICAgIAogICAgICAgICAgICAgICAgdmFyIGh0bWxfZjBjMGYwYzNmNTQ2NGJiZGFjNDgzMGVkYTkwYTUzMzggPSAkKGA8ZGl2IGlkPSJodG1sX2YwYzBmMGMzZjU0NjRiYmRhYzQ4MzBlZGE5MGE1MzM4IiBzdHlsZT0id2lkdGg6IDEwMC4wJTsgaGVpZ2h0OiAxMDAuMCU7Ij5Vbml2ZXJzaXRpIFRla25pa2FsIE1hbGF5c2lhIE1lbGFrYTwvZGl2PmApWzBdOwogICAgICAgICAgICAgICAgcG9wdXBfNTY2ODM4MTE0OTUxNDQ1OWI1ZTc4NTYzMTBiMmY0ODUuc2V0Q29udGVudChodG1sX2YwYzBmMGMzZjU0NjRiYmRhYzQ4MzBlZGE5MGE1MzM4KTsKICAgICAgICAgICAgCgogICAgICAgICAgICBtYXJrZXJfYzcyOThjMzVmZTRkNGM3OWFlZjk2N2MxMGJlYTc2NGUuYmluZFBvcHVwKHBvcHVwXzU2NjgzODExNDk1MTQ0NTliNWU3ODU2MzEwYjJmNDg1KQogICAgICAgICAgICA7CgogICAgICAgICAgICAKICAgICAgICAKICAgIAogICAgICAgIHZhciBtYXJrZXJfZGY0YWM4OWQ2YTczNDgwMDgxOWVhZmM1YTAzYmNhZTEgPSBMLm1hcmtlcigKICAgICAgICAgICAgWzMuNTQzNzAyLCAxMDMuNDI4OTA2XSwKICAgICAgICAgICAgewogICAgICAgICAgICAgICAgaWNvbjogbmV3IEwuSWNvbi5EZWZhdWx0KCkKICAgICAgICAgICAgICAgIH0KICAgICAgICAgICAgKS5hZGRUbyhtYXBfZmU0ODJlNDIzNWJiNDMyZmJmOGFlZjU0YjBlMTRlOWQpOwogICAgICAgIAogICAgCiAgICAgICAgICAgIHZhciBwb3B1cF84ZjVmYWZmZTUxZDk0ODQ4OWQxMWY0OWM5Njg4NjljMCA9IEwucG9wdXAoe21heFdpZHRoOiAnMzAwJwogICAgICAgICAgICAKICAgICAgICAgICAgfSk7CgogICAgICAgICAgICAKICAgICAgICAgICAgICAgIHZhciBodG1sX2VjYjg0MmIzMmE2MzRmNTI5ZjRmYzViNTllMmM5ZGFjID0gJChgPGRpdiBpZD0iaHRtbF9lY2I4NDJiMzJhNjM0ZjUyOWY0ZmM1YjU5ZTJjOWRhYyIgc3R5bGU9IndpZHRoOiAxMDAuMCU7IGhlaWdodDogMTAwLjAlOyI+VW5pdmVyc2l0aSBNYWxheXNpYSBQYWhhbmc8L2Rpdj5gKVswXTsKICAgICAgICAgICAgICAgIHBvcHVwXzhmNWZhZmZlNTFkOTQ4NDg5ZDExZjQ5Yzk2ODg2OWMwLnNldENvbnRlbnQoaHRtbF9lY2I4NDJiMzJhNjM0ZjUyOWY0ZmM1YjU5ZTJjOWRhYyk7CiAgICAgICAgICAgIAoKICAgICAgICAgICAgbWFya2VyX2RmNGFjODlkNmE3MzQ4MDA4MTllYWZjNWEwM2JjYWUxLmJpbmRQb3B1cChwb3B1cF84ZjVmYWZmZTUxZDk0ODQ4OWQxMWY0OWM5Njg4NjljMCkKICAgICAgICAgICAgOwoKICAgICAgICAgICAgCiAgICAgICAgCiAgICAKICAgICAgICB2YXIgbWFya2VyXzUyNjJmMTgyMjFkZTRiZjRhODY0YjU1ZDVhYmJkNzZiID0gTC5tYXJrZXIoCiAgICAgICAgICAgIFs2LjQxMTE2LCAxMDAuMTM1Nl0sCiAgICAgICAgICAgIHsKICAgICAgICAgICAgICAgIGljb246IG5ldyBMLkljb24uRGVmYXVsdCgpCiAgICAgICAgICAgICAgICB9CiAgICAgICAgICAgICkuYWRkVG8obWFwX2ZlNDgyZTQyMzViYjQzMmZiZjhhZWY1NGIwZTE0ZTlkKTsKICAgICAgICAKICAgIAogICAgICAgICAgICB2YXIgcG9wdXBfMGQ1ZTJhYjQzNzhkNGE2YWI3OGE1ZTUxNzAwN2Q4NDcgPSBMLnBvcHVwKHttYXhXaWR0aDogJzMwMCcKICAgICAgICAgICAgCiAgICAgICAgICAgIH0pOwoKICAgICAgICAgICAgCiAgICAgICAgICAgICAgICB2YXIgaHRtbF8wNDZjMmFiOGEwODg0MTk0OWFkM2MyZmMwNmE5MGIzZCA9ICQoYDxkaXYgaWQ9Imh0bWxfMDQ2YzJhYjhhMDg4NDE5NDlhZDNjMmZjMDZhOTBiM2QiIHN0eWxlPSJ3aWR0aDogMTAwLjAlOyBoZWlnaHQ6IDEwMC4wJTsiPlVuaXZlcnNpdGkgTWFsYXlzaWEgUGVybGlzPC9kaXY+YClbMF07CiAgICAgICAgICAgICAgICBwb3B1cF8wZDVlMmFiNDM3OGQ0YTZhYjc4YTVlNTE3MDA3ZDg0Ny5zZXRDb250ZW50KGh0bWxfMDQ2YzJhYjhhMDg4NDE5NDlhZDNjMmZjMDZhOTBiM2QpOwogICAgICAgICAgICAKCiAgICAgICAgICAgIG1hcmtlcl81MjYyZjE4MjIxZGU0YmY0YTg2NGI1NWQ1YWJiZDc2Yi5iaW5kUG9wdXAocG9wdXBfMGQ1ZTJhYjQzNzhkNGE2YWI3OGE1ZTUxNzAwN2Q4NDcpCiAgICAgICAgICAgIDsKCiAgICAgICAgICAgIAogICAgICAgIAogICAgCiAgICAgICAgdmFyIG1hcmtlcl8xZjJmMzdjZmVhMmI0YmMxYWIyMzg5NDlmYjQxMjZlNyA9IEwubWFya2VyKAogICAgICAgICAgICBbNS4zOTU2NzYsIDEwMy4wODI3OTVdLAogICAgICAgICAgICB7CiAgICAgICAgICAgICAgICBpY29uOiBuZXcgTC5JY29uLkRlZmF1bHQoKQogICAgICAgICAgICAgICAgfQogICAgICAgICAgICApLmFkZFRvKG1hcF9mZTQ4MmU0MjM1YmI0MzJmYmY4YWVmNTRiMGUxNGU5ZCk7CiAgICAgICAgCiAgICAKICAgICAgICAgICAgdmFyIHBvcHVwXzQ2ZTdhNGEwZWQ1NzRmZDU5MzRlYTk3ZDJhZjlkN2FlID0gTC5wb3B1cCh7bWF4V2lkdGg6ICczMDAnCiAgICAgICAgICAgIAogICAgICAgICAgICB9KTsKCiAgICAgICAgICAgIAogICAgICAgICAgICAgICAgdmFyIGh0bWxfNjU0NmE2NWRiZTg4NGE5NzgwMWM4NDZlNzM3MDJkMmIgPSAkKGA8ZGl2IGlkPSJodG1sXzY1NDZhNjVkYmU4ODRhOTc4MDFjODQ2ZTczNzAyZDJiIiBzdHlsZT0id2lkdGg6IDEwMC4wJTsgaGVpZ2h0OiAxMDAuMCU7Ij5Vbml2ZXJzaXRpIFN1bHRhbiBaYWluYWwgQWJpZGluPC9kaXY+YClbMF07CiAgICAgICAgICAgICAgICBwb3B1cF80NmU3YTRhMGVkNTc0ZmQ1OTM0ZWE5N2QyYWY5ZDdhZS5zZXRDb250ZW50KGh0bWxfNjU0NmE2NWRiZTg4NGE5NzgwMWM4NDZlNzM3MDJkMmIpOwogICAgICAgICAgICAKCiAgICAgICAgICAgIG1hcmtlcl8xZjJmMzdjZmVhMmI0YmMxYWIyMzg5NDlmYjQxMjZlNy5iaW5kUG9wdXAocG9wdXBfNDZlN2E0YTBlZDU3NGZkNTkzNGVhOTdkMmFmOWQ3YWUpCiAgICAgICAgICAgIDsKCiAgICAgICAgICAgIAogICAgICAgIAogICAgCiAgICAgICAgdmFyIG1hcmtlcl9iOGQwZDhiMDgxMDY0M2RhYTMxODg0ODM2NzIzZGI4YyA9IEwubWFya2VyKAogICAgICAgICAgICBbNi4xNjQyOTEsIDEwMi4yODM5NTZdLAogICAgICAgICAgICB7CiAgICAgICAgICAgICAgICBpY29uOiBuZXcgTC5JY29uLkRlZmF1bHQoKQogICAgICAgICAgICAgICAgfQogICAgICAgICAgICApLmFkZFRvKG1hcF9mZTQ4MmU0MjM1YmI0MzJmYmY4YWVmNTRiMGUxNGU5ZCk7CiAgICAgICAgCiAgICAKICAgICAgICAgICAgdmFyIHBvcHVwXzAzNjIwMWViNWNkYTRmMzg5ZmYzNTc0YzBlZDVhMzVjID0gTC5wb3B1cCh7bWF4V2lkdGg6ICczMDAnCiAgICAgICAgICAgIAogICAgICAgICAgICB9KTsKCiAgICAgICAgICAgIAogICAgICAgICAgICAgICAgdmFyIGh0bWxfNjdmZjU2OTkwMjI0NDA0MWI1NmRiZmU4ZTk4ZWFkNGMgPSAkKGA8ZGl2IGlkPSJodG1sXzY3ZmY1Njk5MDIyNDQwNDFiNTZkYmZlOGU5OGVhZDRjIiBzdHlsZT0id2lkdGg6IDEwMC4wJTsgaGVpZ2h0OiAxMDAuMCU7Ij5Vbml2ZXJzaXRpIE1hbGF5c2lhIEtlbGFudGFuPC9kaXY+YClbMF07CiAgICAgICAgICAgICAgICBwb3B1cF8wMzYyMDFlYjVjZGE0ZjM4OWZmMzU3NGMwZWQ1YTM1Yy5zZXRDb250ZW50KGh0bWxfNjdmZjU2OTkwMjI0NDA0MWI1NmRiZmU4ZTk4ZWFkNGMpOwogICAgICAgICAgICAKCiAgICAgICAgICAgIG1hcmtlcl9iOGQwZDhiMDgxMDY0M2RhYTMxODg0ODM2NzIzZGI4Yy5iaW5kUG9wdXAocG9wdXBfMDM2MjAxZWI1Y2RhNGYzODlmZjM1NzRjMGVkNWEzNWMpCiAgICAgICAgICAgIDsKCiAgICAgICAgICAgIAogICAgICAgIAogICAgCiAgICAgICAgdmFyIG1hcmtlcl8zNTg2NjhmMWM3Mzk0ZTVkYTY5ODFjYWE3ZTRiY2RmNiA9IEwubWFya2VyKAogICAgICAgICAgICBbMy4wNTA0NjMsIDEwMS43MjQ4MzNdLAogICAgICAgICAgICB7CiAgICAgICAgICAgICAgICBpY29uOiBuZXcgTC5JY29uLkRlZmF1bHQoKQogICAgICAgICAgICAgICAgfQogICAgICAgICAgICApLmFkZFRvKG1hcF9mZTQ4MmU0MjM1YmI0MzJmYmY4YWVmNTRiMGUxNGU5ZCk7CiAgICAgICAgCiAgICAKICAgICAgICAgICAgdmFyIHBvcHVwXzlmNDJjNTI2ZjFkYTRjZmI4MThjMzk1ZWZkYjVlYjQ1ID0gTC5wb3B1cCh7bWF4V2lkdGg6ICczMDAnCiAgICAgICAgICAgIAogICAgICAgICAgICB9KTsKCiAgICAgICAgICAgIAogICAgICAgICAgICAgICAgdmFyIGh0bWxfOTc2MTFiN2ZjYWRmNDZhMmI2N2JhY2I0MGNmNTJlMzUgPSAkKGA8ZGl2IGlkPSJodG1sXzk3NjExYjdmY2FkZjQ2YTJiNjdiYWNiNDBjZjUyZTM1IiBzdHlsZT0id2lkdGg6IDEwMC4wJTsgaGVpZ2h0OiAxMDAuMCU7Ij5Vbml2ZXJzaXRpIFBlcnRhaGFuYW4gTmFzaW9uYWwgTWFsYXlzaWE8L2Rpdj5gKVswXTsKICAgICAgICAgICAgICAgIHBvcHVwXzlmNDJjNTI2ZjFkYTRjZmI4MThjMzk1ZWZkYjVlYjQ1LnNldENvbnRlbnQoaHRtbF85NzYxMWI3ZmNhZGY0NmEyYjY3YmFjYjQwY2Y1MmUzNSk7CiAgICAgICAgICAgIAoKICAgICAgICAgICAgbWFya2VyXzM1ODY2OGYxYzczOTRlNWRhNjk4MWNhYTdlNGJjZGY2LmJpbmRQb3B1cChwb3B1cF85ZjQyYzUyNmYxZGE0Y2ZiODE4YzM5NWVmZGI1ZWI0NSkKICAgICAgICAgICAgOwoKICAgICAgICAgICAgCiAgICAgICAgCjwvc2NyaXB0Pg==\" style=\"position:absolute;width:100%;height:100%;left:0;top:0;border:none !important;\" allowfullscreen webkitallowfullscreen mozallowfullscreen></iframe></div></div>"
      ],
      "text/plain": [
       "<folium.folium.Map at 0x1c2cd788550>"
      ]
     },
     "execution_count": 8,
     "metadata": {},
     "output_type": "execute_result"
    }
   ],
   "source": [
    "# creating the map\n",
    "uni_map = folium.Map(location=[1.559580, 103.637489], zoom_start=6)\n",
    "df_public_university_malaysia.apply(lambda pu:folium.Marker(location=[pu[\"Latitude\"], pu[\"Longitude\"]], \n",
    "                                               popup = pu[\"University_Name\"])\n",
    "                                             .add_to(uni_map), axis=1)\n",
    "\n",
    "# display th map\n",
    "uni_map"
   ]
  },
  {
   "cell_type": "markdown",
   "metadata": {},
   "source": [
    "The map is pretty much beautiful. Isn't it? Among them one of it is my own university.\n",
    "\n",
    "That's all for this project. You can find this repository here : \n",
    "I keep the project and dataset open source (MIT license). So that anyone can use and enrich the dataset for further\n",
    "analysis."
   ]
  },
  {
   "cell_type": "code",
   "execution_count": null,
   "metadata": {},
   "outputs": [],
   "source": []
  }
 ],
 "metadata": {
  "kernelspec": {
   "display_name": "Python 3",
   "language": "python",
   "name": "python3"
  },
  "language_info": {
   "codemirror_mode": {
    "name": "ipython",
    "version": 3
   },
   "file_extension": ".py",
   "mimetype": "text/x-python",
   "name": "python",
   "nbconvert_exporter": "python",
   "pygments_lexer": "ipython3",
   "version": "3.7.1"
  }
 },
 "nbformat": 4,
 "nbformat_minor": 2
}
